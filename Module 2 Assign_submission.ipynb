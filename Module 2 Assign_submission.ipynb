{
 "cells": [
  {
   "cell_type": "markdown",
   "id": "73692116-86f2-41f5-b297-a2d79df96912",
   "metadata": {},
   "source": [
    "## Question 1: Import Data: Import the provided salary data from Kaggle into your Jupyter Notebook.\n",
    "\n",
    "import numpy as np\n",
    "import pandas as pd\n"
   ]
  },
  {
   "cell_type": "code",
   "execution_count": 5,
   "id": "a1975dab-2584-4b1d-82cc-c9bac296e3f4",
   "metadata": {},
   "outputs": [],
   "source": [
    "import pandas as pd"
   ]
  },
  {
   "cell_type": "code",
   "execution_count": 7,
   "id": "57f8f845-dc00-4e71-8326-7c6cb9e86df5",
   "metadata": {},
   "outputs": [
    {
     "name": "stderr",
     "output_type": "stream",
     "text": [
      "C:\\Users\\lenovo\\AppData\\Local\\Temp\\ipykernel_628\\4217895250.py:1: DtypeWarning: Columns (2,3,4,5) have mixed types. Specify dtype option on import or set low_memory=False.\n",
      "  df = pd.read_csv(r'C:\\Users\\lenovo\\Desktop\\BAN6420\\MOD 2 ASSIGNMENT\\Total.csv')\n"
     ]
    }
   ],
   "source": [
    "df = pd.read_csv(r'C:\\Users\\lenovo\\Desktop\\BAN6420\\MOD 2 ASSIGNMENT\\Total.csv')"
   ]
  },
  {
   "cell_type": "code",
   "execution_count": 8,
   "id": "52ce4bd3-4bc5-44d7-a3f7-a07644df57a8",
   "metadata": {},
   "outputs": [
    {
     "data": {
      "text/html": [
       "<div>\n",
       "<style scoped>\n",
       "    .dataframe tbody tr th:only-of-type {\n",
       "        vertical-align: middle;\n",
       "    }\n",
       "\n",
       "    .dataframe tbody tr th {\n",
       "        vertical-align: top;\n",
       "    }\n",
       "\n",
       "    .dataframe thead th {\n",
       "        text-align: right;\n",
       "    }\n",
       "</style>\n",
       "<table border=\"1\" class=\"dataframe\">\n",
       "  <thead>\n",
       "    <tr style=\"text-align: right;\">\n",
       "      <th></th>\n",
       "      <th>EmployeeName</th>\n",
       "      <th>JobTitle</th>\n",
       "      <th>BasePay</th>\n",
       "      <th>OvertimePay</th>\n",
       "      <th>OtherPay</th>\n",
       "      <th>Benefits</th>\n",
       "      <th>TotalPay</th>\n",
       "      <th>TotalPayBenefits</th>\n",
       "      <th>Year</th>\n",
       "    </tr>\n",
       "  </thead>\n",
       "  <tbody>\n",
       "    <tr>\n",
       "      <th>0</th>\n",
       "      <td>NATHANIEL FORD</td>\n",
       "      <td>GENERAL MANAGER-METROPOLITAN TRANSIT AUTHORITY</td>\n",
       "      <td>167411.18</td>\n",
       "      <td>0.0</td>\n",
       "      <td>400184.25</td>\n",
       "      <td>Not Provided</td>\n",
       "      <td>567595.43</td>\n",
       "      <td>567595.43</td>\n",
       "      <td>2011</td>\n",
       "    </tr>\n",
       "    <tr>\n",
       "      <th>1</th>\n",
       "      <td>GARY JIMENEZ</td>\n",
       "      <td>CAPTAIN III (POLICE DEPARTMENT)</td>\n",
       "      <td>155966.02</td>\n",
       "      <td>245131.88</td>\n",
       "      <td>137811.38</td>\n",
       "      <td>Not Provided</td>\n",
       "      <td>538909.28</td>\n",
       "      <td>538909.28</td>\n",
       "      <td>2011</td>\n",
       "    </tr>\n",
       "    <tr>\n",
       "      <th>2</th>\n",
       "      <td>ALBERT PARDINI</td>\n",
       "      <td>CAPTAIN III (POLICE DEPARTMENT)</td>\n",
       "      <td>212739.13</td>\n",
       "      <td>106088.18</td>\n",
       "      <td>16452.6</td>\n",
       "      <td>Not Provided</td>\n",
       "      <td>335279.91</td>\n",
       "      <td>335279.91</td>\n",
       "      <td>2011</td>\n",
       "    </tr>\n",
       "    <tr>\n",
       "      <th>3</th>\n",
       "      <td>CHRISTOPHER CHONG</td>\n",
       "      <td>WIRE ROPE CABLE MAINTENANCE MECHANIC</td>\n",
       "      <td>77916.0</td>\n",
       "      <td>56120.71</td>\n",
       "      <td>198306.9</td>\n",
       "      <td>Not Provided</td>\n",
       "      <td>332343.61</td>\n",
       "      <td>332343.61</td>\n",
       "      <td>2011</td>\n",
       "    </tr>\n",
       "    <tr>\n",
       "      <th>4</th>\n",
       "      <td>PATRICK GARDNER</td>\n",
       "      <td>DEPUTY CHIEF OF DEPARTMENT,(FIRE DEPARTMENT)</td>\n",
       "      <td>134401.6</td>\n",
       "      <td>9737.0</td>\n",
       "      <td>182234.59</td>\n",
       "      <td>Not Provided</td>\n",
       "      <td>326373.19</td>\n",
       "      <td>326373.19</td>\n",
       "      <td>2011</td>\n",
       "    </tr>\n",
       "  </tbody>\n",
       "</table>\n",
       "</div>"
      ],
      "text/plain": [
       "        EmployeeName                                        JobTitle  \\\n",
       "0     NATHANIEL FORD  GENERAL MANAGER-METROPOLITAN TRANSIT AUTHORITY   \n",
       "1       GARY JIMENEZ                 CAPTAIN III (POLICE DEPARTMENT)   \n",
       "2     ALBERT PARDINI                 CAPTAIN III (POLICE DEPARTMENT)   \n",
       "3  CHRISTOPHER CHONG            WIRE ROPE CABLE MAINTENANCE MECHANIC   \n",
       "4    PATRICK GARDNER    DEPUTY CHIEF OF DEPARTMENT,(FIRE DEPARTMENT)   \n",
       "\n",
       "     BasePay OvertimePay   OtherPay      Benefits   TotalPay  \\\n",
       "0  167411.18         0.0  400184.25  Not Provided  567595.43   \n",
       "1  155966.02   245131.88  137811.38  Not Provided  538909.28   \n",
       "2  212739.13   106088.18    16452.6  Not Provided  335279.91   \n",
       "3    77916.0    56120.71   198306.9  Not Provided  332343.61   \n",
       "4   134401.6      9737.0  182234.59  Not Provided  326373.19   \n",
       "\n",
       "   TotalPayBenefits  Year  \n",
       "0         567595.43  2011  \n",
       "1         538909.28  2011  \n",
       "2         335279.91  2011  \n",
       "3         332343.61  2011  \n",
       "4         326373.19  2011  "
      ]
     },
     "execution_count": 8,
     "metadata": {},
     "output_type": "execute_result"
    }
   ],
   "source": [
    "df.head()"
   ]
  },
  {
   "cell_type": "markdown",
   "id": "8e1a1542-59bc-4d40-8d25-9f9817646fbc",
   "metadata": {},
   "source": [
    "Question 2:Create Employee Function:Develop a Python function that accepts an employee's name as input and returns their details"
   ]
  },
  {
   "cell_type": "code",
   "execution_count": 12,
   "id": "46650685-2a1f-48ba-9ebd-936b75a58f8c",
   "metadata": {},
   "outputs": [
    {
     "name": "stdout",
     "output_type": "stream",
     "text": [
      "{'EmployeeName': 'GARY JIMENEZ', 'JobTitle': 'CAPTAIN III (POLICE DEPARTMENT)', 'BasePay': 155966.02, 'OvertimePay': 245131.88, 'OtherPay': 137811.38, 'Benefits': 'Not Provided', 'TotalPay': 538909.28, 'TotalPayBenefits': 538909.28, 'Year': 2011}\n"
     ]
    }
   ],
   "source": [
    "## Define a function to fetch employee details \n",
    "\n",
    "def get_employee_details(EmployeeName):\n",
    "    \"\"\"\n",
    "    This function accepts an employee's name and returns their details.\n",
    "    \"\"\"\n",
    "    try:\n",
    "        # Filter data based on the provided employee name\n",
    "        employee_data = df[df['EmployeeName'] == EmployeeName]\n",
    "        \n",
    "        if not employee_data.empty:\n",
    "            return employee_data.to_dict(orient='records')[0]\n",
    "        else:\n",
    "            return f\"No data found for employee: {EmployeeName}\"\n",
    "    except Exception as e:\n",
    "        return f\"An error occurred: {e}\"\n",
    "\n",
    "# Test the function\n",
    "EmployeeName = \"GARY JIMENEZ\"  # Replace with any name from your dataset\n",
    "result = get_employee_details(EmployeeName)\n",
    "print(result)"
   ]
  },
  {
   "cell_type": "code",
   "execution_count": null,
   "id": "908c80f3-e26b-4952-a63f-05eef2312c0d",
   "metadata": {},
   "outputs": [],
   "source": []
  },
  {
   "cell_type": "markdown",
   "id": "5fd4d4e8-9bc7-4d03-9aef-eae01895a172",
   "metadata": {},
   "source": [
    "Question 3: Data Processing with Dictionary: Process the salary data using a Python dictionary."
   ]
  },
  {
   "cell_type": "code",
   "execution_count": 16,
   "id": "bd23942e-e2c7-4fe4-a5a6-d9d28848ef9d",
   "metadata": {},
   "outputs": [
    {
     "name": "stdout",
     "output_type": "stream",
     "text": [
      "An error occurred while processing data: DataFrame index must be unique for orient='index'.\n"
     ]
    }
   ],
   "source": [
    "# Convert DataFrame to Dictionary\n",
    "Total_dict = {}\n",
    "\n",
    "try:\n",
    "    # Process data into a dictionary where key = employee name, value = their details\n",
    "    Total_dict = df.set_index('EmployeeName').to_dict(orient='index')\n",
    "    print(\"Data successfully processed into dictionary!\")\n",
    "    print(Total_dict)  # Print the dictionary\n",
    "except Exception as e:\n",
    "    print(f\"An error occurred while processing data: {e}\")"
   ]
  },
  {
   "cell_type": "code",
   "execution_count": null,
   "id": "85d9068c-a674-4c9c-8b9e-e83399cf7aed",
   "metadata": {},
   "outputs": [],
   "source": []
  },
  {
   "cell_type": "code",
   "execution_count": 22,
   "id": "5a9c0c0e-e786-42db-bf88-ebe944e09e93",
   "metadata": {},
   "outputs": [
    {
     "name": "stdout",
     "output_type": "stream",
     "text": [
      "                                                      BasePay OvertimePay  \\\n",
      "NATHANIEL FORD - GENERAL MANAGER-METROPOLITAN T...  167411.18         0.0   \n",
      "GARY JIMENEZ - CAPTAIN III (POLICE DEPARTMENT)      155966.02   245131.88   \n",
      "ALBERT PARDINI - CAPTAIN III (POLICE DEPARTMENT)    212739.13   106088.18   \n",
      "CHRISTOPHER CHONG - WIRE ROPE CABLE MAINTENANCE...    77916.0    56120.71   \n",
      "PATRICK GARDNER - DEPUTY CHIEF OF DEPARTMENT,(F...   134401.6      9737.0   \n",
      "DAVID SULLIVAN - ASSISTANT DEPUTY CHIEF II           118602.0      8601.0   \n",
      "ALSON LEE - BATTALION CHIEF, (FIRE DEPARTMENT)       92492.01     89062.9   \n",
      "DAVID KUSHNER - DEPUTY DIRECTOR OF INVESTMENTS      256576.96         0.0   \n",
      "MICHAEL MORRIS - BATTALION CHIEF, (FIRE DEPARTM...  176932.64    86362.68   \n",
      "JOANNE HAYES-WHITE - CHIEF OF DEPARTMENT, (FIRE...   285262.0         0.0   \n",
      "\n",
      "                                                     OtherPay      Benefits  \\\n",
      "NATHANIEL FORD - GENERAL MANAGER-METROPOLITAN T...  400184.25  Not Provided   \n",
      "GARY JIMENEZ - CAPTAIN III (POLICE DEPARTMENT)      137811.38  Not Provided   \n",
      "ALBERT PARDINI - CAPTAIN III (POLICE DEPARTMENT)      16452.6  Not Provided   \n",
      "CHRISTOPHER CHONG - WIRE ROPE CABLE MAINTENANCE...   198306.9  Not Provided   \n",
      "PATRICK GARDNER - DEPUTY CHIEF OF DEPARTMENT,(F...  182234.59  Not Provided   \n",
      "DAVID SULLIVAN - ASSISTANT DEPUTY CHIEF II          189082.74  Not Provided   \n",
      "ALSON LEE - BATTALION CHIEF, (FIRE DEPARTMENT)      134426.14  Not Provided   \n",
      "DAVID KUSHNER - DEPUTY DIRECTOR OF INVESTMENTS        51322.5  Not Provided   \n",
      "MICHAEL MORRIS - BATTALION CHIEF, (FIRE DEPARTM...   40132.23  Not Provided   \n",
      "JOANNE HAYES-WHITE - CHIEF OF DEPARTMENT, (FIRE...   17115.73  Not Provided   \n",
      "\n",
      "                                                     TotalPay  \\\n",
      "NATHANIEL FORD - GENERAL MANAGER-METROPOLITAN T...  567595.43   \n",
      "GARY JIMENEZ - CAPTAIN III (POLICE DEPARTMENT)      538909.28   \n",
      "ALBERT PARDINI - CAPTAIN III (POLICE DEPARTMENT)    335279.91   \n",
      "CHRISTOPHER CHONG - WIRE ROPE CABLE MAINTENANCE...  332343.61   \n",
      "PATRICK GARDNER - DEPUTY CHIEF OF DEPARTMENT,(F...  326373.19   \n",
      "DAVID SULLIVAN - ASSISTANT DEPUTY CHIEF II          316285.74   \n",
      "ALSON LEE - BATTALION CHIEF, (FIRE DEPARTMENT)      315981.05   \n",
      "DAVID KUSHNER - DEPUTY DIRECTOR OF INVESTMENTS      307899.46   \n",
      "MICHAEL MORRIS - BATTALION CHIEF, (FIRE DEPARTM...  303427.55   \n",
      "JOANNE HAYES-WHITE - CHIEF OF DEPARTMENT, (FIRE...  302377.73   \n",
      "\n",
      "                                                    TotalPayBenefits  Year  \n",
      "NATHANIEL FORD - GENERAL MANAGER-METROPOLITAN T...         567595.43  2011  \n",
      "GARY JIMENEZ - CAPTAIN III (POLICE DEPARTMENT)             538909.28  2011  \n",
      "ALBERT PARDINI - CAPTAIN III (POLICE DEPARTMENT)           335279.91  2011  \n",
      "CHRISTOPHER CHONG - WIRE ROPE CABLE MAINTENANCE...         332343.61  2011  \n",
      "PATRICK GARDNER - DEPUTY CHIEF OF DEPARTMENT,(F...         326373.19  2011  \n",
      "DAVID SULLIVAN - ASSISTANT DEPUTY CHIEF II                 316285.74  2011  \n",
      "ALSON LEE - BATTALION CHIEF, (FIRE DEPARTMENT)             315981.05  2011  \n",
      "DAVID KUSHNER - DEPUTY DIRECTOR OF INVESTMENTS             307899.46  2011  \n",
      "MICHAEL MORRIS - BATTALION CHIEF, (FIRE DEPARTM...         303427.55  2011  \n",
      "JOANNE HAYES-WHITE - CHIEF OF DEPARTMENT, (FIRE...         302377.73  2011  \n"
     ]
    }
   ],
   "source": [
    "# Question 3: Solution\n",
    "# Create an empty dictionary to store the compensation data\n",
    "\n",
    "Total_dict = {}\n",
    "\n",
    "# Iterate over each row in the dataset\n",
    "for index, row in df.iterrows():\n",
    "    # Create a unique key for each employee using their name and job title\n",
    "    employee_key = f\"{row['EmployeeName']} - {row['JobTitle']}\"\n",
    "\n",
    "    # Create a dictionary containing the employee's salary details\n",
    "    salary_details = {\n",
    "        'BasePay': row['BasePay'],\n",
    "        'OvertimePay': row['OvertimePay'],\n",
    "        'OtherPay': row['OtherPay'],\n",
    "        'Benefits': row['Benefits'],\n",
    "        'TotalPay': row['TotalPay'],\n",
    "        'TotalPayBenefits': row['TotalPayBenefits'],\n",
    "        'Year': row['Year']\n",
    "    }\n",
    "\n",
    "    # Add the employee's salary details to the dictionary\n",
    "    Total_dict[employee_key] = salary_details\n",
    "\n",
    "# Convert the dictionary back to a DataFrame\n",
    "df_from_dict = pd.DataFrame.from_dict(Total_dict, orient='index')\n",
    "\n",
    "# Now use head() to display the first 10 rows\n",
    "print(df_from_dict.head(10))"
   ]
  },
  {
   "cell_type": "code",
   "execution_count": null,
   "id": "3e99ce30-5701-4dda-a5f0-011646911bab",
   "metadata": {},
   "outputs": [],
   "source": []
  },
  {
   "cell_type": "markdown",
   "id": "cb9eaada-c6fc-4c39-8a14-56d002866cb0",
   "metadata": {},
   "source": [
    "Question 4: Error Handling: Implement error handling in your code to address potential issues gracefully."
   ]
  },
  {
   "cell_type": "code",
   "execution_count": 39,
   "id": "d95c87fe-85ba-4c0a-866d-fcc6e0396fb1",
   "metadata": {},
   "outputs": [
    {
     "name": "stdout",
     "output_type": "stream",
     "text": [
      "Fetching details for: CHRISTOPHER CHONG\n",
      "{'EmployeeName': 'CHRISTOPHER CHONG', 'JobTitle': 'WIRE ROPE CABLE MAINTENANCE MECHANIC', 'BasePay': 77916.0, 'OvertimePay': 56120.71, 'OtherPay': 198306.9, 'Benefits': 'Not Provided', 'TotalPay': 332343.61, 'TotalPayBenefits': 332343.61, 'Year': 2011}\n"
     ]
    }
   ],
   "source": [
    "# Global Error Handling Example using an employee called Chistopher Chong\n",
    "\n",
    "try:\n",
    "    # Run the function for the sample name\n",
    "    test_name = \"CHRISTOPHER CHONG\"  # Replace with any name\n",
    "    print(\"Fetching details for:\", test_name)\n",
    "    print(get_employee_details(test_name))\n",
    "except Exception as e:\n",
    "    print(f\"An unexpected error occurred: {e}\")"
   ]
  },
  {
   "cell_type": "code",
   "execution_count": null,
   "id": "9398b53f-45d3-4289-b70b-a674d6af5f85",
   "metadata": {},
   "outputs": [],
   "source": []
  },
  {
   "cell_type": "markdown",
   "id": "c5d4828a-8415-4d76-a9a4-30dc18aede04",
   "metadata": {},
   "source": [
    "Question 5:Export Employee Details:Export an employee's details to a CSV file and save it within a zipped folder named \"Employee Profile.\""
   ]
  },
  {
   "cell_type": "code",
   "execution_count": 43,
   "id": "00141622-bb36-458b-b3c9-2955c5ff881a",
   "metadata": {},
   "outputs": [
    {
     "name": "stdout",
     "output_type": "stream",
     "text": [
      "CSV file 'employee_details.csv' created successfully with GARY JIMENEZ's details.\n",
      "ZIP file 'Employee Profile.zip' created successfully.\n"
     ]
    }
   ],
   "source": [
    "# To export a specific employee's details from the given dataset to a **CSV file** and save it within a **zipped folder** named \"Employee Profile,\" \n",
    "\n",
    "### Import the following libraries\n",
    "import csv\n",
    "import zipfile\n",
    "import os\n",
    "\n",
    "# Convert to a DataFrame\n",
    "columns = [\"EmployeeName\", \"JobTitle\", \"BasePay\", \"OvertimePay\", \"OtherPay\", \"Benefits\", \"TotalPay\", \"TotalPayBenefits\", \"Year\"]\n",
    "\n",
    "df = pd.DataFrame(df, columns=columns)\n",
    "\n",
    "# Step 1: Filter a specific employee's details (e.g., GARY JIMENEZ)\n",
    "employee_name = \"GARY JIMENEZ\"\n",
    "employee_data = df[df[\"EmployeeName\"] == employee_name]\n",
    "\n",
    "# Step 2: Save the filtered data to a CSV file\n",
    "csv_filename = \"employee_details.csv\"\n",
    "employee_data.to_csv(csv_filename, index=False)\n",
    "\n",
    "print(f\"CSV file '{csv_filename}' created successfully with {employee_name}'s details.\")\n",
    "\n",
    "# Step 3: Add the CSV file to a ZIP folder named \"Employee Profile\"\n",
    "zip_filename = \"Employee Profile.zip\"\n",
    "\n",
    "with zipfile.ZipFile(zip_filename, \"w\") as zipf:\n",
    "    zipf.write(csv_filename, os.path.basename(csv_filename))\n",
    "\n",
    "print(f\"ZIP file '{zip_filename}' created successfully.\")\n"
   ]
  },
  {
   "cell_type": "code",
   "execution_count": null,
   "id": "125aa49e-7b29-493f-9f2f-5514d41f8b0c",
   "metadata": {},
   "outputs": [],
   "source": []
  },
  {
   "cell_type": "code",
   "execution_count": 45,
   "id": "6b4e36de-13fc-45eb-8683-0ace20292eff",
   "metadata": {},
   "outputs": [
    {
     "name": "stdout",
     "output_type": "stream",
     "text": [
      "Requirement already satisfied: notebook in c:\\users\\lenovo\\anaconda3\\lib\\site-packages (7.2.2)\n",
      "Requirement already satisfied: jupyter-server<3,>=2.4.0 in c:\\users\\lenovo\\anaconda3\\lib\\site-packages (from notebook) (2.14.1)\n",
      "Requirement already satisfied: jupyterlab-server<3,>=2.27.1 in c:\\users\\lenovo\\anaconda3\\lib\\site-packages (from notebook) (2.27.3)\n",
      "Requirement already satisfied: jupyterlab<4.3,>=4.2.0 in c:\\users\\lenovo\\anaconda3\\lib\\site-packages (from notebook) (4.2.5)\n",
      "Requirement already satisfied: notebook-shim<0.3,>=0.2 in c:\\users\\lenovo\\anaconda3\\lib\\site-packages (from notebook) (0.2.3)\n",
      "Requirement already satisfied: tornado>=6.2.0 in c:\\users\\lenovo\\anaconda3\\lib\\site-packages (from notebook) (6.4.1)\n",
      "Requirement already satisfied: anyio>=3.1.0 in c:\\users\\lenovo\\anaconda3\\lib\\site-packages (from jupyter-server<3,>=2.4.0->notebook) (4.2.0)\n",
      "Requirement already satisfied: argon2-cffi>=21.1 in c:\\users\\lenovo\\anaconda3\\lib\\site-packages (from jupyter-server<3,>=2.4.0->notebook) (21.3.0)\n",
      "Requirement already satisfied: jinja2>=3.0.3 in c:\\users\\lenovo\\anaconda3\\lib\\site-packages (from jupyter-server<3,>=2.4.0->notebook) (3.1.4)\n",
      "Requirement already satisfied: jupyter-client>=7.4.4 in c:\\users\\lenovo\\anaconda3\\lib\\site-packages (from jupyter-server<3,>=2.4.0->notebook) (8.6.0)\n",
      "Requirement already satisfied: jupyter-core!=5.0.*,>=4.12 in c:\\users\\lenovo\\anaconda3\\lib\\site-packages (from jupyter-server<3,>=2.4.0->notebook) (5.7.2)\n",
      "Requirement already satisfied: jupyter-events>=0.9.0 in c:\\users\\lenovo\\anaconda3\\lib\\site-packages (from jupyter-server<3,>=2.4.0->notebook) (0.10.0)\n",
      "Requirement already satisfied: jupyter-server-terminals>=0.4.4 in c:\\users\\lenovo\\anaconda3\\lib\\site-packages (from jupyter-server<3,>=2.4.0->notebook) (0.4.4)\n",
      "Requirement already satisfied: nbconvert>=6.4.4 in c:\\users\\lenovo\\anaconda3\\lib\\site-packages (from jupyter-server<3,>=2.4.0->notebook) (7.16.4)\n",
      "Requirement already satisfied: nbformat>=5.3.0 in c:\\users\\lenovo\\anaconda3\\lib\\site-packages (from jupyter-server<3,>=2.4.0->notebook) (5.10.4)\n",
      "Requirement already satisfied: overrides>=5.0 in c:\\users\\lenovo\\anaconda3\\lib\\site-packages (from jupyter-server<3,>=2.4.0->notebook) (7.4.0)\n",
      "Requirement already satisfied: packaging>=22.0 in c:\\users\\lenovo\\anaconda3\\lib\\site-packages (from jupyter-server<3,>=2.4.0->notebook) (24.1)\n",
      "Requirement already satisfied: prometheus-client>=0.9 in c:\\users\\lenovo\\anaconda3\\lib\\site-packages (from jupyter-server<3,>=2.4.0->notebook) (0.14.1)\n",
      "Requirement already satisfied: pywinpty>=2.0.1 in c:\\users\\lenovo\\anaconda3\\lib\\site-packages (from jupyter-server<3,>=2.4.0->notebook) (2.0.10)\n",
      "Requirement already satisfied: pyzmq>=24 in c:\\users\\lenovo\\anaconda3\\lib\\site-packages (from jupyter-server<3,>=2.4.0->notebook) (25.1.2)\n",
      "Requirement already satisfied: send2trash>=1.8.2 in c:\\users\\lenovo\\anaconda3\\lib\\site-packages (from jupyter-server<3,>=2.4.0->notebook) (1.8.2)\n",
      "Requirement already satisfied: terminado>=0.8.3 in c:\\users\\lenovo\\anaconda3\\lib\\site-packages (from jupyter-server<3,>=2.4.0->notebook) (0.17.1)\n",
      "Requirement already satisfied: traitlets>=5.6.0 in c:\\users\\lenovo\\anaconda3\\lib\\site-packages (from jupyter-server<3,>=2.4.0->notebook) (5.14.3)\n",
      "Requirement already satisfied: websocket-client>=1.7 in c:\\users\\lenovo\\anaconda3\\lib\\site-packages (from jupyter-server<3,>=2.4.0->notebook) (1.8.0)\n",
      "Requirement already satisfied: async-lru>=1.0.0 in c:\\users\\lenovo\\anaconda3\\lib\\site-packages (from jupyterlab<4.3,>=4.2.0->notebook) (2.0.4)\n",
      "Requirement already satisfied: httpx>=0.25.0 in c:\\users\\lenovo\\anaconda3\\lib\\site-packages (from jupyterlab<4.3,>=4.2.0->notebook) (0.27.0)\n",
      "Requirement already satisfied: ipykernel>=6.5.0 in c:\\users\\lenovo\\anaconda3\\lib\\site-packages (from jupyterlab<4.3,>=4.2.0->notebook) (6.28.0)\n",
      "Requirement already satisfied: jupyter-lsp>=2.0.0 in c:\\users\\lenovo\\anaconda3\\lib\\site-packages (from jupyterlab<4.3,>=4.2.0->notebook) (2.2.0)\n",
      "Requirement already satisfied: setuptools>=40.1.0 in c:\\users\\lenovo\\anaconda3\\lib\\site-packages (from jupyterlab<4.3,>=4.2.0->notebook) (75.1.0)\n",
      "Requirement already satisfied: babel>=2.10 in c:\\users\\lenovo\\anaconda3\\lib\\site-packages (from jupyterlab-server<3,>=2.27.1->notebook) (2.11.0)\n",
      "Requirement already satisfied: json5>=0.9.0 in c:\\users\\lenovo\\anaconda3\\lib\\site-packages (from jupyterlab-server<3,>=2.27.1->notebook) (0.9.6)\n",
      "Requirement already satisfied: jsonschema>=4.18.0 in c:\\users\\lenovo\\anaconda3\\lib\\site-packages (from jupyterlab-server<3,>=2.27.1->notebook) (4.23.0)\n",
      "Requirement already satisfied: requests>=2.31 in c:\\users\\lenovo\\anaconda3\\lib\\site-packages (from jupyterlab-server<3,>=2.27.1->notebook) (2.32.3)\n",
      "Requirement already satisfied: idna>=2.8 in c:\\users\\lenovo\\anaconda3\\lib\\site-packages (from anyio>=3.1.0->jupyter-server<3,>=2.4.0->notebook) (3.7)\n",
      "Requirement already satisfied: sniffio>=1.1 in c:\\users\\lenovo\\anaconda3\\lib\\site-packages (from anyio>=3.1.0->jupyter-server<3,>=2.4.0->notebook) (1.3.0)\n",
      "Requirement already satisfied: argon2-cffi-bindings in c:\\users\\lenovo\\anaconda3\\lib\\site-packages (from argon2-cffi>=21.1->jupyter-server<3,>=2.4.0->notebook) (21.2.0)\n",
      "Requirement already satisfied: pytz>=2015.7 in c:\\users\\lenovo\\anaconda3\\lib\\site-packages (from babel>=2.10->jupyterlab-server<3,>=2.27.1->notebook) (2024.1)\n",
      "Requirement already satisfied: certifi in c:\\users\\lenovo\\anaconda3\\lib\\site-packages (from httpx>=0.25.0->jupyterlab<4.3,>=4.2.0->notebook) (2024.12.14)\n",
      "Requirement already satisfied: httpcore==1.* in c:\\users\\lenovo\\anaconda3\\lib\\site-packages (from httpx>=0.25.0->jupyterlab<4.3,>=4.2.0->notebook) (1.0.2)\n",
      "Requirement already satisfied: h11<0.15,>=0.13 in c:\\users\\lenovo\\anaconda3\\lib\\site-packages (from httpcore==1.*->httpx>=0.25.0->jupyterlab<4.3,>=4.2.0->notebook) (0.14.0)\n",
      "Requirement already satisfied: comm>=0.1.1 in c:\\users\\lenovo\\anaconda3\\lib\\site-packages (from ipykernel>=6.5.0->jupyterlab<4.3,>=4.2.0->notebook) (0.2.1)\n",
      "Requirement already satisfied: debugpy>=1.6.5 in c:\\users\\lenovo\\anaconda3\\lib\\site-packages (from ipykernel>=6.5.0->jupyterlab<4.3,>=4.2.0->notebook) (1.6.7)\n",
      "Requirement already satisfied: ipython>=7.23.1 in c:\\users\\lenovo\\anaconda3\\lib\\site-packages (from ipykernel>=6.5.0->jupyterlab<4.3,>=4.2.0->notebook) (8.27.0)\n",
      "Requirement already satisfied: matplotlib-inline>=0.1 in c:\\users\\lenovo\\anaconda3\\lib\\site-packages (from ipykernel>=6.5.0->jupyterlab<4.3,>=4.2.0->notebook) (0.1.6)\n",
      "Requirement already satisfied: nest-asyncio in c:\\users\\lenovo\\anaconda3\\lib\\site-packages (from ipykernel>=6.5.0->jupyterlab<4.3,>=4.2.0->notebook) (1.6.0)\n",
      "Requirement already satisfied: psutil in c:\\users\\lenovo\\anaconda3\\lib\\site-packages (from ipykernel>=6.5.0->jupyterlab<4.3,>=4.2.0->notebook) (5.9.0)\n",
      "Requirement already satisfied: MarkupSafe>=2.0 in c:\\users\\lenovo\\anaconda3\\lib\\site-packages (from jinja2>=3.0.3->jupyter-server<3,>=2.4.0->notebook) (2.1.3)\n",
      "Requirement already satisfied: attrs>=22.2.0 in c:\\users\\lenovo\\anaconda3\\lib\\site-packages (from jsonschema>=4.18.0->jupyterlab-server<3,>=2.27.1->notebook) (23.1.0)\n",
      "Requirement already satisfied: jsonschema-specifications>=2023.03.6 in c:\\users\\lenovo\\anaconda3\\lib\\site-packages (from jsonschema>=4.18.0->jupyterlab-server<3,>=2.27.1->notebook) (2023.7.1)\n",
      "Requirement already satisfied: referencing>=0.28.4 in c:\\users\\lenovo\\anaconda3\\lib\\site-packages (from jsonschema>=4.18.0->jupyterlab-server<3,>=2.27.1->notebook) (0.30.2)\n",
      "Requirement already satisfied: rpds-py>=0.7.1 in c:\\users\\lenovo\\anaconda3\\lib\\site-packages (from jsonschema>=4.18.0->jupyterlab-server<3,>=2.27.1->notebook) (0.10.6)\n",
      "Requirement already satisfied: python-dateutil>=2.8.2 in c:\\users\\lenovo\\anaconda3\\lib\\site-packages (from jupyter-client>=7.4.4->jupyter-server<3,>=2.4.0->notebook) (2.9.0.post0)\n",
      "Requirement already satisfied: platformdirs>=2.5 in c:\\users\\lenovo\\anaconda3\\lib\\site-packages (from jupyter-core!=5.0.*,>=4.12->jupyter-server<3,>=2.4.0->notebook) (3.10.0)\n",
      "Requirement already satisfied: pywin32>=300 in c:\\users\\lenovo\\anaconda3\\lib\\site-packages (from jupyter-core!=5.0.*,>=4.12->jupyter-server<3,>=2.4.0->notebook) (305.1)\n",
      "Requirement already satisfied: python-json-logger>=2.0.4 in c:\\users\\lenovo\\anaconda3\\lib\\site-packages (from jupyter-events>=0.9.0->jupyter-server<3,>=2.4.0->notebook) (2.0.7)\n",
      "Requirement already satisfied: pyyaml>=5.3 in c:\\users\\lenovo\\anaconda3\\lib\\site-packages (from jupyter-events>=0.9.0->jupyter-server<3,>=2.4.0->notebook) (6.0.1)\n",
      "Requirement already satisfied: rfc3339-validator in c:\\users\\lenovo\\anaconda3\\lib\\site-packages (from jupyter-events>=0.9.0->jupyter-server<3,>=2.4.0->notebook) (0.1.4)\n",
      "Requirement already satisfied: rfc3986-validator>=0.1.1 in c:\\users\\lenovo\\anaconda3\\lib\\site-packages (from jupyter-events>=0.9.0->jupyter-server<3,>=2.4.0->notebook) (0.1.1)\n",
      "Requirement already satisfied: beautifulsoup4 in c:\\users\\lenovo\\anaconda3\\lib\\site-packages (from nbconvert>=6.4.4->jupyter-server<3,>=2.4.0->notebook) (4.12.3)\n",
      "Requirement already satisfied: bleach!=5.0.0 in c:\\users\\lenovo\\anaconda3\\lib\\site-packages (from nbconvert>=6.4.4->jupyter-server<3,>=2.4.0->notebook) (4.1.0)\n",
      "Requirement already satisfied: defusedxml in c:\\users\\lenovo\\anaconda3\\lib\\site-packages (from nbconvert>=6.4.4->jupyter-server<3,>=2.4.0->notebook) (0.7.1)\n",
      "Requirement already satisfied: jupyterlab-pygments in c:\\users\\lenovo\\anaconda3\\lib\\site-packages (from nbconvert>=6.4.4->jupyter-server<3,>=2.4.0->notebook) (0.1.2)\n",
      "Requirement already satisfied: mistune<4,>=2.0.3 in c:\\users\\lenovo\\anaconda3\\lib\\site-packages (from nbconvert>=6.4.4->jupyter-server<3,>=2.4.0->notebook) (2.0.4)\n",
      "Requirement already satisfied: nbclient>=0.5.0 in c:\\users\\lenovo\\anaconda3\\lib\\site-packages (from nbconvert>=6.4.4->jupyter-server<3,>=2.4.0->notebook) (0.8.0)\n",
      "Requirement already satisfied: pandocfilters>=1.4.1 in c:\\users\\lenovo\\anaconda3\\lib\\site-packages (from nbconvert>=6.4.4->jupyter-server<3,>=2.4.0->notebook) (1.5.0)\n",
      "Requirement already satisfied: pygments>=2.4.1 in c:\\users\\lenovo\\anaconda3\\lib\\site-packages (from nbconvert>=6.4.4->jupyter-server<3,>=2.4.0->notebook) (2.15.1)\n",
      "Requirement already satisfied: tinycss2 in c:\\users\\lenovo\\anaconda3\\lib\\site-packages (from nbconvert>=6.4.4->jupyter-server<3,>=2.4.0->notebook) (1.2.1)\n",
      "Requirement already satisfied: fastjsonschema>=2.15 in c:\\users\\lenovo\\anaconda3\\lib\\site-packages (from nbformat>=5.3.0->jupyter-server<3,>=2.4.0->notebook) (2.16.2)\n",
      "Requirement already satisfied: charset-normalizer<4,>=2 in c:\\users\\lenovo\\anaconda3\\lib\\site-packages (from requests>=2.31->jupyterlab-server<3,>=2.27.1->notebook) (3.3.2)\n",
      "Requirement already satisfied: urllib3<3,>=1.21.1 in c:\\users\\lenovo\\anaconda3\\lib\\site-packages (from requests>=2.31->jupyterlab-server<3,>=2.27.1->notebook) (2.2.3)\n",
      "Requirement already satisfied: six>=1.9.0 in c:\\users\\lenovo\\anaconda3\\lib\\site-packages (from bleach!=5.0.0->nbconvert>=6.4.4->jupyter-server<3,>=2.4.0->notebook) (1.16.0)\n",
      "Requirement already satisfied: webencodings in c:\\users\\lenovo\\anaconda3\\lib\\site-packages (from bleach!=5.0.0->nbconvert>=6.4.4->jupyter-server<3,>=2.4.0->notebook) (0.5.1)\n",
      "Requirement already satisfied: decorator in c:\\users\\lenovo\\anaconda3\\lib\\site-packages (from ipython>=7.23.1->ipykernel>=6.5.0->jupyterlab<4.3,>=4.2.0->notebook) (5.1.1)\n",
      "Requirement already satisfied: jedi>=0.16 in c:\\users\\lenovo\\anaconda3\\lib\\site-packages (from ipython>=7.23.1->ipykernel>=6.5.0->jupyterlab<4.3,>=4.2.0->notebook) (0.19.1)\n",
      "Requirement already satisfied: prompt-toolkit<3.1.0,>=3.0.41 in c:\\users\\lenovo\\anaconda3\\lib\\site-packages (from ipython>=7.23.1->ipykernel>=6.5.0->jupyterlab<4.3,>=4.2.0->notebook) (3.0.43)\n",
      "Requirement already satisfied: stack-data in c:\\users\\lenovo\\anaconda3\\lib\\site-packages (from ipython>=7.23.1->ipykernel>=6.5.0->jupyterlab<4.3,>=4.2.0->notebook) (0.2.0)\n",
      "Requirement already satisfied: colorama in c:\\users\\lenovo\\anaconda3\\lib\\site-packages (from ipython>=7.23.1->ipykernel>=6.5.0->jupyterlab<4.3,>=4.2.0->notebook) (0.4.6)\n",
      "Requirement already satisfied: fqdn in c:\\users\\lenovo\\anaconda3\\lib\\site-packages (from jsonschema[format-nongpl]>=4.18.0->jupyter-events>=0.9.0->jupyter-server<3,>=2.4.0->notebook) (1.5.1)\n",
      "Requirement already satisfied: isoduration in c:\\users\\lenovo\\anaconda3\\lib\\site-packages (from jsonschema[format-nongpl]>=4.18.0->jupyter-events>=0.9.0->jupyter-server<3,>=2.4.0->notebook) (20.11.0)\n",
      "Requirement already satisfied: jsonpointer>1.13 in c:\\users\\lenovo\\anaconda3\\lib\\site-packages (from jsonschema[format-nongpl]>=4.18.0->jupyter-events>=0.9.0->jupyter-server<3,>=2.4.0->notebook) (2.1)\n",
      "Requirement already satisfied: uri-template in c:\\users\\lenovo\\anaconda3\\lib\\site-packages (from jsonschema[format-nongpl]>=4.18.0->jupyter-events>=0.9.0->jupyter-server<3,>=2.4.0->notebook) (1.3.0)\n",
      "Requirement already satisfied: webcolors>=24.6.0 in c:\\users\\lenovo\\anaconda3\\lib\\site-packages (from jsonschema[format-nongpl]>=4.18.0->jupyter-events>=0.9.0->jupyter-server<3,>=2.4.0->notebook) (24.11.1)\n",
      "Requirement already satisfied: cffi>=1.0.1 in c:\\users\\lenovo\\anaconda3\\lib\\site-packages (from argon2-cffi-bindings->argon2-cffi>=21.1->jupyter-server<3,>=2.4.0->notebook) (1.17.1)\n",
      "Requirement already satisfied: soupsieve>1.2 in c:\\users\\lenovo\\anaconda3\\lib\\site-packages (from beautifulsoup4->nbconvert>=6.4.4->jupyter-server<3,>=2.4.0->notebook) (2.5)\n",
      "Requirement already satisfied: pycparser in c:\\users\\lenovo\\anaconda3\\lib\\site-packages (from cffi>=1.0.1->argon2-cffi-bindings->argon2-cffi>=21.1->jupyter-server<3,>=2.4.0->notebook) (2.21)\n",
      "Requirement already satisfied: parso<0.9.0,>=0.8.3 in c:\\users\\lenovo\\anaconda3\\lib\\site-packages (from jedi>=0.16->ipython>=7.23.1->ipykernel>=6.5.0->jupyterlab<4.3,>=4.2.0->notebook) (0.8.3)\n",
      "Requirement already satisfied: wcwidth in c:\\users\\lenovo\\anaconda3\\lib\\site-packages (from prompt-toolkit<3.1.0,>=3.0.41->ipython>=7.23.1->ipykernel>=6.5.0->jupyterlab<4.3,>=4.2.0->notebook) (0.2.5)\n",
      "Requirement already satisfied: arrow>=0.15.0 in c:\\users\\lenovo\\anaconda3\\lib\\site-packages (from isoduration->jsonschema[format-nongpl]>=4.18.0->jupyter-events>=0.9.0->jupyter-server<3,>=2.4.0->notebook) (1.2.3)\n",
      "Requirement already satisfied: executing in c:\\users\\lenovo\\anaconda3\\lib\\site-packages (from stack-data->ipython>=7.23.1->ipykernel>=6.5.0->jupyterlab<4.3,>=4.2.0->notebook) (0.8.3)\n",
      "Requirement already satisfied: asttokens in c:\\users\\lenovo\\anaconda3\\lib\\site-packages (from stack-data->ipython>=7.23.1->ipykernel>=6.5.0->jupyterlab<4.3,>=4.2.0->notebook) (2.0.5)\n",
      "Requirement already satisfied: pure-eval in c:\\users\\lenovo\\anaconda3\\lib\\site-packages (from stack-data->ipython>=7.23.1->ipykernel>=6.5.0->jupyterlab<4.3,>=4.2.0->notebook) (0.2.2)\n",
      "Note: you may need to restart the kernel to use updated packages.\n"
     ]
    }
   ],
   "source": [
    "pip install notebook\n"
   ]
  },
  {
   "cell_type": "raw",
   "id": "844d1f6f-af7c-437a-b707-74108958b8e9",
   "metadata": {},
   "source": []
  },
  {
   "cell_type": "code",
   "execution_count": 1,
   "id": "0bf52cdb-02d7-4bb1-9916-c5419ecb3bb9",
   "metadata": {},
   "outputs": [
    {
     "name": "stdout",
     "output_type": "stream",
     "text": [
      "[1] \"C:/Users/lenovo\"\n",
      "[1] \"ZIP file found.\"\n",
      "[1] \"Unzipping completed.\"\n",
      "  EmployeeName                        JobTitle BasePay OvertimePay OtherPay\n",
      "1 GARY JIMENEZ CAPTAIN III (POLICE DEPARTMENT)  155966    245131.9 137811.4\n",
      "      Benefits TotalPay TotalPayBenefits Year\n",
      "1 Not Provided 538909.3         538909.3 2011\n"
     ]
    }
   ],
   "source": [
    "# Question 6: Unzip and Display Data with R: Use R to unzip the folder created in step\n",
    "# Check and set the working directory\n",
    "print(getwd()) # Verify current working directory\n",
    "setwd(\"C:\\\\Users\\\\lenovo\\\\Desktop\\\\BAN6420\\\\MOD 2 ASSIGNMENT\")\n",
    "# Check if the ZIP file exists\n",
    "if (file.exists(\"Employee Profile.zip\")) {\n",
    " print(\"ZIP file found.\")\n",
    " # Unzip the file\n",
    " unzip(\"Employee Profile.zip\", exdir = \"unzipped_data\")\n",
    " print(\"Unzipping completed.\")\n",
    " \n",
    " # Read and display the CSV data\n",
    " csv_path <- file.path(\"unzipped_data\", \"employee_details.csv\") \n",
    " if (file.exists(csv_path)) {\n",
    " data <- read.csv(csv_path)\n",
    " print(head(data))\n",
    " } else {\n",
    " stop(\"CSV file not found in the extracted folder.\")\n",
    " }\n",
    "} else {\n",
    " stop(\"ZIP file not found.\")\n",
    "}\n"
   ]
  },
  {
   "cell_type": "code",
   "execution_count": null,
   "id": "dbbaf1fe-b748-462e-b15f-4ac9f0f21e38",
   "metadata": {},
   "outputs": [],
   "source": []
  }
 ],
 "metadata": {
  "kernelspec": {
   "display_name": "Python [conda env:base] *",
   "language": "python",
   "name": "conda-base-py"
  },
  "language_info": {
   "codemirror_mode": {
    "name": "ipython",
    "version": 3
   },
   "file_extension": ".py",
   "mimetype": "text/x-python",
   "name": "python",
   "nbconvert_exporter": "python",
   "pygments_lexer": "ipython3",
   "version": "3.12.7"
  }
 },
 "nbformat": 4,
 "nbformat_minor": 5
}
